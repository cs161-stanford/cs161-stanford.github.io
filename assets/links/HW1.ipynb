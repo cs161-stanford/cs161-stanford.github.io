{
 "cells": [
  {
   "cell_type": "markdown",
   "metadata": {
    "colab_type": "text",
    "id": "6gSQ1k4N4Ed-"
   },
   "source": [
    "# This notebook goes with Exercise 1 on CS161 HW1.\n",
    "## In it, we'll explore big-Oh notation\n",
    "\n",
    "Check out https://matplotlib.org/users/pyplot_tutorial.html for a good tutorial on using `matplotlib` if you are getting hung up on the graphics stuff, although hopefully you shouldn't have to mess with it.\n",
    "\n",
    "You should not turn in this notebook; instead you should include a picture from it in your problem set.  \n",
    "\n",
    "NOTE: To include a picture in a LaTeX document, you can do something like `\\includegraphics[width=8cm]{your_image.png}`."
   ]
  },
  {
   "cell_type": "code",
   "execution_count": null,
   "metadata": {
    "colab": {},
    "colab_type": "code",
    "id": "WBpe49B04EeA"
   },
   "outputs": [],
   "source": [
    "%matplotlib inline\n",
    "import matplotlib\n",
    "import numpy as np\n",
    "import matplotlib.pyplot as plt"
   ]
  },
  {
   "cell_type": "markdown",
   "metadata": {
    "colab_type": "text",
    "id": "ijBPKem-4EeD"
   },
   "source": [
    "\n",
    "#  Exercise 1\n",
    "\n",
    "### In which we draw a picture convincing us that $3\\sqrt{x} + 2 = O( \\sqrt{x}$ ) \n"
   ]
  },
  {
   "cell_type": "code",
   "execution_count": null,
   "metadata": {
    "colab": {},
    "colab_type": "code",
    "id": "nC8hKWiE4EeD"
   },
   "outputs": [],
   "source": [
    "## In this exercise, we'll just make sure we understand the definition of big-Oh.\n",
    "## Consider the following two functions:\n",
    "\n",
    "def g(x):\n",
    "    return np.sqrt(x)\n",
    "\n",
    "def T(x):\n",
    "    return 3*np.sqrt(x) + 2\n",
    "\n",
    "## Let's plot them.\n",
    "plt.plot([T(x) for x in range(100)], color=\"red\", label=\"$T(x)$\")\n",
    "plt.plot([g(x) for x in range(100)], '--', color=\"blue\", label=\"$g(x)$\")\n",
    "plt.xlabel(\"$x$\")\n",
    "plt.legend()\n",
    "plt.title(\"$T$ and $g$\")\n",
    "\n",
    "plt.show()\n",
    "\n",
    "# (Press Shift+Enter to execute this cell and make the plot -- you have to execute the cell above first)"
   ]
  },
  {
   "cell_type": "markdown",
   "metadata": {
    "colab_type": "text",
    "id": "3prQ7Mn44EeG"
   },
   "source": [
    "Clearly $T(x) > g(x)$ for all $x$.  However, we claim $T(x) = O(g(x))$; that is, $T$ is asymptotically no larger than $g$.\n",
    "\n",
    "To show this is true, we need to find some $c$ and some $n_0$ so that:\n",
    "for all $n >= n_0, T(n) \\leq cg(n)$. \n",
    "\n",
    "By adjusting the values below, find such a $c$ and an $n_0$, and create a picture that convinces you (and the grader) that $T(n) = O(g(n))$.  Your plot should be similar to the ones we saw on the slides in Lecture 2."
   ]
  },
  {
   "cell_type": "code",
   "execution_count": null,
   "metadata": {
    "colab": {},
    "colab_type": "code",
    "id": "0qFJlOOP4EeG"
   },
   "outputs": [],
   "source": [
    "c = 2  # TODO: you will have to change this value\n",
    "n0 = 0 # TODO: you will have to change this value\n",
    "\n",
    "# Plot our three functions:\n",
    "plt.plot([T(x) for x in range(100)], color=\"red\", label=\"$T(x)$\")\n",
    "plt.plot([g(x) for x in range(100)], '--', color=\"blue\", label=\"$g(x)$\")\n",
    "plt.plot([c*g(x) for x in range(100)], '-.', color=\"green\",label=\"$c*g(x) = \" + str(c)+\"*g(x)$\")\n",
    "\n",
    "# Plot the vertical line:\n",
    "plt.axvline(n0, color=\"orange\", label=\"$x=n0=\" + str(n0) + \"$\")\n",
    "\n",
    "# Add some text:\n",
    "plt.xlabel(\"$x$\")\n",
    "plt.title(\"Picture that convinces you that $T(x) = O(g(x))$\")\n",
    "plt.legend()\n",
    "\n",
    "# If you want to save the figure that comes out, you can do it by uncommenting the following line:\n",
    "plt.savefig(\"myfigure.png\")\n"
   ]
  },
  {
   "cell_type": "markdown",
   "metadata": {
    "colab_type": "text",
    "id": "TAg57KSg4EeI"
   },
   "source": [
    "### TURN IN: your choice of $c$, $n_0$, your plot, and a short (a sentence or two) explanation about why the plot suggests that $T(n) = O(g(n))$.\n",
    "\n",
    "NOTE: On some systems you can right click the images in the notebook and click \"save image as\" to get a `.png` file.  You can then include this in your homework write-up.  You can also use `plt.savefig(\"myfigure.png\")` to save the image, as is commented out above.\n"
   ]
  },
  {
   "cell_type": "code",
   "execution_count": null,
   "metadata": {},
   "outputs": [],
   "source": []
  }
 ],
 "metadata": {
  "colab": {
   "name": "HW1.ipynb",
   "provenance": []
  },
  "kernelspec": {
   "display_name": "Python 3 (ipykernel)",
   "language": "python",
   "name": "python3"
  },
  "language_info": {
   "codemirror_mode": {
    "name": "ipython",
    "version": 3
   },
   "file_extension": ".py",
   "mimetype": "text/x-python",
   "name": "python",
   "nbconvert_exporter": "python",
   "pygments_lexer": "ipython3",
   "version": "3.10.2"
  }
 },
 "nbformat": 4,
 "nbformat_minor": 4
}
